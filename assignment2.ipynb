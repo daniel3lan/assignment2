{
 "cells": [
  {
   "cell_type": "markdown",
   "metadata": {},
   "source": [
    "<div style=\"color: pink; padding: 10px; font-size: 75px;\">\n",
    "TITLE\n",
    "</div>"
   ]
  },
  {
   "cell_type": "code",
   "execution_count": 133,
   "metadata": {},
   "outputs": [],
   "source": [
    "import numpy as np\n",
    "import gzip\n",
    "import json\n",
    "from collections import defaultdict\n",
    "import matplotlib.pyplot as plt"
   ]
  },
  {
   "cell_type": "code",
   "execution_count": 108,
   "metadata": {},
   "outputs": [],
   "source": [
    "dataset = []\n",
    "\n",
    "max_lines = 1000000\n",
    "dataset = []\n",
    "with gzip.open(\"Electronics.jsonl.gz\", \"rt\", encoding=\"utf-8\") as f:\n",
    "    for i, line in enumerate(f):\n",
    "        if i >= max_lines:\n",
    "            break\n",
    "        dataset.append(json.loads(line))"
   ]
  },
  {
   "cell_type": "code",
   "execution_count": 156,
   "metadata": {},
   "outputs": [
    {
     "data": {
      "text/plain": [
       "{'rating': 3.0,\n",
       " 'title': 'Smells like gasoline! Going back!',\n",
       " 'text': 'First & most offensive: they reek of gasoline so if you are sensitive/allergic to petroleum products like I am you will want to pass on these.  Second: the phone adapter is useless as-is. Mine was not drilled far enough to be able to tighten it into place for my iPhone 12 max. It just slipped & slid all over. Stupid me putting the adapter together first without picking up the binoculars to smell them bc I wasted 15 minutes trying to figure out how to put the adapter together bc it does not come with instructions!  I had to come back here to the website which was a total pain. Third: the tripod is also useless. I would not trust the iOS to hold my $1600 phone nor even a Mattel Barbie for that matter. It’s just inefficient for the job imo.  Third: in order to try to give an honest review I did don gloves & eyewear to check the binoculars out.  They seemed average except for mine seemed to be missing about 10% of the film costing in the lower edge of one of the lenses which would have ruined every video & photograph unplanned to take so for me these are a very huge hard pass.  I expect the accessories that come with the main product to be as good or better than the product I’m buying. Otherwise I would just buy the product as a stand alone.  Sadly, I found a decent pair of binoculars last year with a much better quality phone adapter & tripod, but they had a defect too.  Guess I’m going to have to pay more.  Ugh.',\n",
       " 'images': [{'small_image_url': 'https://m.media-amazon.com/images/I/71YN+Qk3kCL._SL256_.jpg',\n",
       "   'medium_image_url': 'https://m.media-amazon.com/images/I/71YN+Qk3kCL._SL800_.jpg',\n",
       "   'large_image_url': 'https://m.media-amazon.com/images/I/71YN+Qk3kCL._SL1600_.jpg',\n",
       "   'attachment_type': 'IMAGE'}],\n",
       " 'asin': 'B083NRGZMM',\n",
       " 'parent_asin': 'B083NRGZMM',\n",
       " 'user_id': 'AFKZENTNBQ7A7V7UXW5JJI6UGRYQ',\n",
       " 'timestamp': 1658185117948,\n",
       " 'helpful_vote': 0,\n",
       " 'verified_purchase': True}"
      ]
     },
     "execution_count": 156,
     "metadata": {},
     "output_type": "execute_result"
    }
   ],
   "source": [
    "dataset[0]"
   ]
  },
  {
   "cell_type": "markdown",
   "metadata": {},
   "source": [
    "<div style=\"color: pink; padding: 10px; font-size: 50px;\">\n",
    "Data analysis\n",
    "</div>"
   ]
  },
  {
   "cell_type": "code",
   "execution_count": null,
   "metadata": {},
   "outputs": [
    {
     "name": "stdout",
     "output_type": "stream",
     "text": [
      "('AFKZENTNBQ7A7V7UXW5JJI6UGRYQ', 'B083NRGZMM', 3.0)\n",
      "number of users 185242\n",
      "number of items 317522\n"
     ]
    }
   ],
   "source": [
    "allRatings = []\n",
    "userRatings = defaultdict(list)\n",
    "allUsers= set()\n",
    "allItems = set()\n",
    "for d in dataset:\n",
    "    user, item, rating = d['user_id'], d['asin'], d['rating']\n",
    "    allRatings.append((user,item,rating))\n",
    "    allUsers.add(user)\n",
    "    allItems.add(item)\n",
    "    userRatings[user].append(rating)\n",
    "\n",
    "\n",
    "print(allRatings[0])\n",
    "print(\"number of users\", len(allUsers))\n",
    "print(\"number of items\", len(allItems))    \n"
   ]
  },
  {
   "cell_type": "code",
   "execution_count": null,
   "metadata": {},
   "outputs": [
    {
     "name": "stdout",
     "output_type": "stream",
     "text": [
      "All ratings are valid (0-5).\n"
     ]
    }
   ],
   "source": [
    "ratings = [rating for _,_,rating in allRatings]\n",
    "for rating in ratings:\n",
    "    if rating not in {0, 1, 2, 3, 4, 5}:  # Check if the rating is not 0-5\n",
    "        print(f\"The first invalid rating is: {rating}\")\n",
    "        break\n",
    "else:\n",
    "    print(\"All ratings are valid (0-5).\")"
   ]
  },
  {
   "cell_type": "code",
   "execution_count": 249,
   "metadata": {},
   "outputs": [
    {
     "data": {
      "image/png": "[encoded data removed]",
      "text/plain": [
       "<Figure size 640x480 with 1 Axes>"
      ]
     },
     "metadata": {},
     "output_type": "display_data"
    }
   ],
   "source": [
    "def plot_histo(dataset):\n",
    "    plt.hist([rating for _,_,rating in dataset], bins=[0, 1, 2, 3, 4, 5, 6], edgecolor='black', align='left', rwidth=0.8)\n",
    "    plt.title(\"rating distribution\")\n",
    "    plt.xlabel(\"rating\")\n",
    "    plt.ylabel(\"frequency\")\n",
    "    plt.show()\n",
    "\n",
    "plot_histo(allRatings)\n"
   ]
  },
  {
   "cell_type": "code",
   "execution_count": 111,
   "metadata": {},
   "outputs": [
    {
     "name": "stdout",
     "output_type": "stream",
     "text": [
      "global average rating 4.215798\n"
     ]
    }
   ],
   "source": [
    "globalAverage = sum([rating for _,_,rating in allRatings]) / len(allRatings)\n",
    "print(\"global average rating\", globalAverage)"
   ]
  },
  {
   "cell_type": "markdown",
   "metadata": {},
   "source": [
    "<div style=\"color: lightblue; padding: 10px; font-size: 30px;\">\n",
    "Data Cleaning/Creation\n",
    "</div>"
   ]
  },
  {
   "cell_type": "code",
   "execution_count": null,
   "metadata": {},
   "outputs": [
    {
     "name": "stdout",
     "output_type": "stream",
     "text": [
      "800000 100000 100000\n"
     ]
    }
   ],
   "source": [
    "train_test_split_fraction = 0.80\n",
    "valid_test_split_fraction = 0.50\n",
    "# np.random.shuffle(allRatings) \n",
    "\n",
    "N = int(len(allRatings)*train_test_split_fraction)\n",
    "ratingsTrain = allRatings[:N]\n",
    "temp = allRatings[N:]\n",
    "\n",
    "N = int(len(temp)*valid_test_split_fraction)\n",
    "ratingsValid = temp[:N]\n",
    "ratingsTest = temp[N:]\n",
    "print(len(ratingsTrain),len(ratingsValid),len(ratingsTest))"
   ]
  },
  {
   "cell_type": "code",
   "execution_count": 148,
   "metadata": {},
   "outputs": [],
   "source": [
    "#maybe rebalance the ratings distribtion here"
   ]
  },
  {
   "cell_type": "code",
   "execution_count": 250,
   "metadata": {},
   "outputs": [
    {
     "data": {
      "image/png": "[encoded data removed]",
      "text/plain": [
       "<Figure size 640x480 with 1 Axes>"
      ]
     },
     "metadata": {},
     "output_type": "display_data"
    }
   ],
   "source": [
    "#delete this later just to check the distribution of the ratings in Train set\n",
    "plot_histo(ratingsTrain)"
   ]
  },
  {
   "cell_type": "code",
   "execution_count": null,
   "metadata": {},
   "outputs": [
    {
     "name": "stdout",
     "output_type": "stream",
     "text": [
      "number of items 277965\n",
      "number of users 146645\n"
     ]
    }
   ],
   "source": [
    "usersPerItem = defaultdict(set)\n",
    "itemsPerUser = defaultdict(set)\n",
    "userRatings = {}\n",
    "for user,item,rating in ratingsTrain:\n",
    "    usersPerItem[item].add((user,rating))\n",
    "    itemsPerUser[user].add((item,rating))\n",
    "    userRatings[(user,item)] = rating\n",
    "\n",
    "print(\"number of items in train set\", len(usersPerItem))\n",
    "print(\"number of users in train set\", len(itemsPerUser))    \n"
   ]
  },
  {
   "cell_type": "markdown",
   "metadata": {},
   "source": [
    "<div style=\"color: pink; padding: 10px; font-size: 50px;\">\n",
    "Baseline Rating Prediction Model\n",
    "</div>"
   ]
  },
  {
   "cell_type": "code",
   "execution_count": 114,
   "metadata": {},
   "outputs": [],
   "source": [
    "def train_rating_predictor(iterations, ratingsTrain, alpha, regularizer):\n",
    "    beta_user = defaultdict(float)\n",
    "    beta_item = defaultdict(float)\n",
    "    N = len(ratingsTrain)\n",
    " \n",
    "    for i in range(iterations):\n",
    "        num = sum(rating - (beta_user[user] + beta_item[item]) for user, item, rating in ratingsTrain)\n",
    "        alpha = num / N\n",
    "        \n",
    "        for user in itemsPerUser:\n",
    "            num =0\n",
    "            for item,rating in itemsPerUser[user]:\n",
    "                num += rating - (alpha + beta_item[item])\n",
    "            beta_user[user] = num/(regularizer+len(itemsPerUser[user]))\n",
    "\n",
    "        \n",
    "        for item in usersPerItem:\n",
    "            num =0\n",
    "            for user,rating in usersPerItem[item]:\n",
    "                num += rating - (alpha + beta_user[user])\n",
    "            beta_item[item] = num/(regularizer+len(usersPerItem[item]))\n",
    "\n",
    "\n",
    "\n",
    "    return alpha, beta_user, beta_item\n",
    "\n",
    "\n",
    "def rating_predictor(user,item,alpha,beta_user,beta_item):\n",
    "    return alpha + beta_user[user] + beta_item[item]\n",
    "\n",
    "\n",
    "def predict(dataset,alpha,beta_user,beta_item):\n",
    "    pred = []\n",
    "    for user,item,rating in dataset:\n",
    "        pred.append(alpha + beta_user[user] + beta_item[item])\n",
    "    return pred\n",
    "\n",
    "def predictAndMSE(dataset, alpha, beta_user, beta_item):\n",
    "    error =0\n",
    "    for user,item,rating in dataset:\n",
    "        prediction = alpha + beta_item[item] + beta_user[user]\n",
    "        error += (prediction-rating)**2\n",
    "\n",
    "    return error/len(dataset)\n",
    "\n",
    "def MSE(predictions, true):\n",
    "    error =0\n",
    "    for i,rating in enumerate(true):\n",
    "        error += (predictions[i]-rating)**2\n",
    "\n",
    "    return error/len(true)\n"
   ]
  },
  {
   "cell_type": "code",
   "execution_count": 115,
   "metadata": {},
   "outputs": [],
   "source": [
    "alpha, beta_user, beta_item = train_rating_predictor(10, ratingsTrain, globalAverage,1)"
   ]
  },
  {
   "cell_type": "code",
   "execution_count": 116,
   "metadata": {},
   "outputs": [],
   "source": [
    "pred = predict(ratingsValid, alpha, beta_user, beta_item)"
   ]
  },
  {
   "cell_type": "code",
   "execution_count": 117,
   "metadata": {},
   "outputs": [
    {
     "name": "stdout",
     "output_type": "stream",
     "text": [
      "MSE: 1.6890444186295066\n"
     ]
    }
   ],
   "source": [
    "# validMSE = predictAndMSE(ratingsValid, alpha, beta_user, beta_item)\n",
    "# print(\"MSE:\",validMSE)\n",
    "\n",
    "mse = MSE(pred, [rating for _,_,rating in ratingsValid]) \n",
    "print(\"MSE:\",mse)"
   ]
  },
  {
   "cell_type": "markdown",
   "metadata": {},
   "source": [
    "<div style=\"color: lightblue; padding: 10px; font-size: 30px;\">\n",
    "Hyper parameter tuning\n",
    "</div>"
   ]
  },
  {
   "cell_type": "code",
   "execution_count": 118,
   "metadata": {},
   "outputs": [
    {
     "name": "stdout",
     "output_type": "stream",
     "text": [
      "1 1.6885303660478013\n",
      "2 1.6568655117504456\n",
      "5 1.6361039145978538\n",
      "10 1.6330469305530304\n",
      "15 1.6345694788625122\n",
      "20 1.6366384416015025\n",
      "best lambda value is 1 with MSE 1.6330469305530304\n"
     ]
    }
   ],
   "source": [
    "\n",
    "lamb_vals = [1,2,5,10,15,20]\n",
    "best_lamb = lamb_vals[0]\n",
    "validMSE = float(\"inf\")\n",
    "for val in lamb_vals:\n",
    "    alpha, beta_user, beta_book = train_rating_predictor(5, ratingsTrain, globalAverage, val)\n",
    "    tempMSE = predictAndMSE(ratingsValid, alpha, beta_user, beta_book)\n",
    "    print(val, tempMSE)\n",
    "    if tempMSE < validMSE:\n",
    "        validMSE = tempMSE\n",
    "        lamb = val\n",
    "\n",
    "print(f\"best lambda value is {best_lamb} with MSE {validMSE}\")"
   ]
  },
  {
   "cell_type": "code",
   "execution_count": 130,
   "metadata": {},
   "outputs": [],
   "source": [
    "#show graph here with varying lambdas"
   ]
  },
  {
   "cell_type": "markdown",
   "metadata": {},
   "source": [
    "<div style=\"color: lightblue; padding: 10px; font-size: 30px;\">\n",
    "Baseline prediction metrics\n",
    "</div>"
   ]
  },
  {
   "cell_type": "code",
   "execution_count": null,
   "metadata": {},
   "outputs": [],
   "source": [
    "alpha, beta_user, beta_book = train_rating_predictor(10, ratingsTrain, globalAverage, best_lamb)"
   ]
  },
  {
   "cell_type": "code",
   "execution_count": 125,
   "metadata": {},
   "outputs": [],
   "source": [
    "pred = predict(ratingsTest, alpha, beta_user, beta_item)"
   ]
  },
  {
   "cell_type": "code",
   "execution_count": 131,
   "metadata": {},
   "outputs": [
    {
     "name": "stdout",
     "output_type": "stream",
     "text": [
      "MSE: 1.6568548084681705\n"
     ]
    }
   ],
   "source": [
    "baseline_mse = MSE(pred, [rating for _,_,rating in ratingsTest]) \n",
    "print(\"MSE:\",mse)"
   ]
  },
  {
   "cell_type": "markdown",
   "metadata": {},
   "source": [
    "<div style=\"color: pink; padding: 10px; font-size: 50px;\">\n",
    "Latent Factor Model\n",
    "</div>"
   ]
  },
  {
   "cell_type": "code",
   "execution_count": 268,
   "metadata": {},
   "outputs": [],
   "source": [
    "class PredictionModel():\n",
    "    def __init__(self,iterations=10, alpha=0, learning_rate = 0.1, regularizer=0, num_factors = 10):\n",
    "        self.iterations = iterations\n",
    "        self.alpha = alpha\n",
    "        self.regularizer = regularizer\n",
    "        self.learning_rate = learning_rate\n",
    "        self.beta_user = defaultdict(float)\n",
    "        self.beta_item = defaultdict(float)\n",
    "        self.factor_user = defaultdict(lambda: np.random.normal(scale=0.01, size=num_factors)) #np.random.normal(scale=0.1, size=(n_users, factors))\n",
    "        self.factor_item = defaultdict(lambda: np.random.normal(scale=0.01, size=num_factors)) #np.random.normal(scale=0.1, size=(n_items, factors))\n",
    "   \n",
    "\n",
    "\n",
    "    def train_model(self,ratingsTrain, output = True):\n",
    "\n",
    "        for i in range(self.iterations):\n",
    "            total_loss = 0\n",
    "            np.random.shuffle(ratingsTrain) \n",
    "            for user,item,rating in ratingsTrain:\n",
    "                pred = self.single_predict(user,item)\n",
    "                error = pred-rating\n",
    "                \n",
    "                # Update biases\n",
    "                self.beta_user[user] = self.beta_user[user] - self.learning_rate * (2*error + 2*self.regularizer*self.beta_user[user])\n",
    "                self.beta_item[item] =  self.beta_item[item] - self.learning_rate * (2*error + 2*self.regularizer* self.beta_item[item])\n",
    "\n",
    "                # Update latent factors\n",
    "                p = self.factor_user[user]\n",
    "                q = self.factor_item[item]\n",
    "                self.factor_user[user] = p - self.learning_rate * ((2*error*q) + (2*self.regularizer*p) )\n",
    "                self.factor_item[item] = q - self.learning_rate * ((2*error*p) + (2*self.regularizer*q) )\n",
    "\n",
    "                if(output):\n",
    "                    total_loss += error ** 2  \n",
    "            if output:\n",
    "                print(f\"Iteration {i+1}/{self.iterations}, Loss: {total_loss/len(ratingsTrain):.4f}\")\n",
    "\n",
    "        return\n",
    "    \n",
    "\n",
    "    \n",
    "    def single_predict(self,user,item):\n",
    "        return self.alpha + self.beta_user[user] + self.beta_item[item] + np.dot(self.factor_user[user], self.factor_item[item])\n",
    "        \n",
    "    def predict(self,dataset):\n",
    "        pred = []\n",
    "        for user, item, rating in dataset:\n",
    "            pred.append(self.single_predict(user,item))\n",
    "        return pred\n",
    "\n",
    "    def MSE(self,pred,real):\n",
    "        err = 0\n",
    "        for i,prediction in enumerate(pred):\n",
    "            err += (prediction-real[i])**2\n",
    "\n",
    "\n",
    "        return err/len(pred)\n",
    "    \n",
    "    # def batches(self,ratingsTrain):\n",
    "    #     for i in range(0, len(ratingsTrain), self.batch_size):\n",
    "    #         yield ratingsTrain[i:i + self.batch_size]"
   ]
  },
  {
   "cell_type": "code",
   "execution_count": 284,
   "metadata": {},
   "outputs": [],
   "source": [
    "latentModel = PredictionModel(10,globalAverage, 0.01, 10, 20)"
   ]
  },
  {
   "cell_type": "code",
   "execution_count": null,
   "metadata": {},
   "outputs": [],
   "source": [
    "latentModel.train_model(ratingsTrain)"
   ]
  },
  {
   "cell_type": "code",
   "execution_count": null,
   "metadata": {},
   "outputs": [
    {
     "name": "stdout",
     "output_type": "stream",
     "text": [
      "MSE: 1.6664514330313052\n"
     ]
    }
   ],
   "source": [
    "pred = latentModel.predict(ratingsValid)\n",
    "mse = latentModel.MSE(pred, [rating for _,_,rating in ratingsValid])\n",
    "print(\"MSE:\", mse)"
   ]
  },
  {
   "cell_type": "code",
   "execution_count": null,
   "metadata": {},
   "outputs": [
    {
     "name": "stdout",
     "output_type": "stream",
     "text": [
      "164026\n",
      "297744\n"
     ]
    }
   ],
   "source": [
    "print(len(latentModel.beta_user))\n",
    "print(len(latentModel.beta_item))\n"
   ]
  },
  {
   "cell_type": "markdown",
   "metadata": {},
   "source": [
    "<div style=\"color: lightblue; padding: 10px; font-size: 30px;\">\n",
    "Hyper parameter tuning\n",
    "</div>"
   ]
  },
  {
   "cell_type": "code",
   "execution_count": null,
   "metadata": {},
   "outputs": [],
   "source": [
    "best_lamb = 15\n",
    "best_factor = 25\n",
    "\n",
    "factor_list = []\n",
    "lamb_list = []"
   ]
  },
  {
   "cell_type": "markdown",
   "metadata": {},
   "source": [
    "<div style=\"color: lightblue; padding: 10px; font-size: 30px;\">\n",
    "Final Prediction metrics\n",
    "</div>"
   ]
  },
  {
   "cell_type": "code",
   "execution_count": null,
   "metadata": {},
   "outputs": [],
   "source": [
    "# latentModel = PredictionModel(10,globalAverage, 0.1, best_lamb, best_factor)"
   ]
  },
  {
   "cell_type": "code",
   "execution_count": null,
   "metadata": {},
   "outputs": [
    {
     "name": "stdout",
     "output_type": "stream",
     "text": [
      "MSE: 1.5183684074278936\n"
     ]
    }
   ],
   "source": [
    "pred = latentModel.predict(ratingsTrain)\n",
    "mse = latentModel.MSE(pred, [rating for _,_,rating in ratingsTrain])\n",
    "print(\"MSE:\", mse)"
   ]
  },
  {
   "cell_type": "code",
   "execution_count": 283,
   "metadata": {},
   "outputs": [
    {
     "data": {
      "image/png": "[encoded data removed]",
      "text/plain": [
       "<Figure size 640x480 with 1 Axes>"
      ]
     },
     "metadata": {},
     "output_type": "display_data"
    }
   ],
   "source": [
    "plot_histo(ratingsTest)"
   ]
  },
  {
   "cell_type": "code",
   "execution_count": null,
   "metadata": {},
   "outputs": [],
   "source": []
  }
 ],
 "metadata": {
  "kernelspec": {
   "display_name": "Python 3",
   "language": "python",
   "name": "python3"
  },
  "language_info": {
   "codemirror_mode": {
    "name": "ipython",
    "version": 3
   },
   "file_extension": ".py",
   "mimetype": "text/x-python",
   "name": "python",
   "nbconvert_exporter": "python",
   "pygments_lexer": "ipython3",
   "version": "3.11.5"
  }
 },
 "nbformat": 4,
 "nbformat_minor": 2
}
